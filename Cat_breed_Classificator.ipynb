{
  "nbformat": 4,
  "nbformat_minor": 0,
  "metadata": {
    "colab": {
      "name": "Cat breed Classificator",
      "provenance": [],
      "collapsed_sections": [],
      "authorship_tag": "ABX9TyPwpgcex9hFIvzl89dm5Ubc",
      "include_colab_link": true
    },
    "kernelspec": {
      "name": "python3",
      "display_name": "Python 3"
    },
    "language_info": {
      "name": "python"
    },
    "accelerator": "GPU"
  },
  "cells": [
    {
      "cell_type": "markdown",
      "metadata": {
        "id": "view-in-github",
        "colab_type": "text"
      },
      "source": [
        "<a href=\"https://colab.research.google.com/github/kanopf/Cat_Breed_Classification/blob/main/Cat_breed_Classificator.ipynb\" target=\"_parent\"><img src=\"https://colab.research.google.com/assets/colab-badge.svg\" alt=\"Open In Colab\"/></a>"
      ]
    },
    {
      "cell_type": "code",
      "metadata": {
        "id": "NAobxdXRkNC-"
      },
      "source": [
        "!pip install -q kaggle"
      ],
      "execution_count": 3,
      "outputs": []
    },
    {
      "cell_type": "code",
      "metadata": {
        "id": "tXBjyprtkYQp"
      },
      "source": [
        "from google.colab import files\n",
        "files.upload()"
      ],
      "execution_count": null,
      "outputs": []
    },
    {
      "cell_type": "code",
      "metadata": {
        "id": "qtU31iAGkpLd"
      },
      "source": [
        "! mkdir ~/.kaggle"
      ],
      "execution_count": 5,
      "outputs": []
    },
    {
      "cell_type": "code",
      "metadata": {
        "id": "ZzDA0Zmcku9X"
      },
      "source": [
        "! cp kaggle.json ~/.kaggle/"
      ],
      "execution_count": 6,
      "outputs": []
    },
    {
      "cell_type": "code",
      "metadata": {
        "id": "SU4f3pPpk9zX"
      },
      "source": [
        "! chmod 600 ~/.kaggle/kaggle.json"
      ],
      "execution_count": 7,
      "outputs": []
    },
    {
      "cell_type": "code",
      "metadata": {
        "id": "7Mhuk9FtlKtI"
      },
      "source": [
        "! kaggle datasets list"
      ],
      "execution_count": null,
      "outputs": []
    },
    {
      "cell_type": "code",
      "metadata": {
        "id": "3HKDcUw0mjlL",
        "colab": {
          "base_uri": "https://localhost:8080/"
        },
        "outputId": "faefb978-00ef-4b6a-cdfa-edd22d41ffff"
      },
      "source": [
        "!kaggle datasets download -d ma7555/cat-breeds-dataset --force"
      ],
      "execution_count": 8,
      "outputs": [
        {
          "output_type": "stream",
          "name": "stdout",
          "text": [
            "Downloading cat-breeds-dataset.zip to /content\n",
            "100% 1.92G/1.93G [00:16<00:00, 56.6MB/s]\n",
            "100% 1.93G/1.93G [00:17<00:00, 120MB/s] \n"
          ]
        }
      ]
    },
    {
      "cell_type": "code",
      "metadata": {
        "id": "5UePx3Tym-8r"
      },
      "source": [
        "!unzip cat-breeds-dataset.zip"
      ],
      "execution_count": null,
      "outputs": []
    },
    {
      "cell_type": "code",
      "metadata": {
        "id": "1IgCiCwwoYtH"
      },
      "source": [
        "!mkdir /content/train\n",
        "!mkdir /content/test"
      ],
      "execution_count": 10,
      "outputs": []
    },
    {
      "cell_type": "code",
      "metadata": {
        "id": "RoPtUCFtQd97"
      },
      "source": [
        "import os\n",
        "import tensorflow as tf\n",
        "from keras.models import Sequential\n",
        "from tensorflow.keras.optimizers import Adam\n",
        "from tensorflow.keras.preprocessing.image import ImageDataGenerator\n",
        "from keras.layers import Dropout\n",
        "import random\n",
        "import numpy as np\n",
        "import shutil"
      ],
      "execution_count": 2,
      "outputs": []
    },
    {
      "cell_type": "code",
      "metadata": {
        "id": "DctzOw8dcCPO"
      },
      "source": [
        "cat_breed_folder = '/content/images'\n",
        "train_path = '/content/train'\n",
        "test_path = '/content/test'\n",
        "\n",
        "breed_list = os.listdir('/content/images')\n",
        "\n",
        "for breed in breed_list:\n",
        "  breed_folder = os.listdir('/content/images/{}'.format(breed))\n",
        "  random.shuffle(breed_folder)\n",
        "  train_labels_class, test_labels_class = np.split(breed_folder, [int(len(breed_folder) * 0.8)])\n",
        "  try:\n",
        "    os.mkdir(train_path + '/' + breed)\n",
        "    os.mkdir(test_path + '/' + breed)\n",
        "  except:\n",
        "    pass\n",
        "  for img in train_labels_class:\n",
        "    shutil.move(cat_breed_folder + \"/\" + breed + '/' + img , train_path + \"/\"+ breed + \"/\" + img)\n",
        "  for img in test_labels_class:\n",
        "    shutil.move(cat_breed_folder + \"/\" + breed + '/' + img , test_path + \"/\"+ breed + \"/\" + img )\n"
      ],
      "execution_count": 3,
      "outputs": []
    },
    {
      "cell_type": "code",
      "metadata": {
        "id": "WQXHpYaWZDGF",
        "outputId": "a0e8aa3b-eed5-47c4-87e3-d0ab57afd28e",
        "colab": {
          "base_uri": "https://localhost:8080/"
        }
      },
      "source": [
        "print(len(breed_list))"
      ],
      "execution_count": 6,
      "outputs": [
        {
          "output_type": "stream",
          "name": "stdout",
          "text": [
            "67\n"
          ]
        }
      ]
    },
    {
      "cell_type": "code",
      "metadata": {
        "id": "uv-XcYzkQXsq"
      },
      "source": [
        "train_path = os.path.join('/content/train')\n",
        "test_path = os.path.join('/content/test')"
      ],
      "execution_count": 4,
      "outputs": []
    },
    {
      "cell_type": "code",
      "metadata": {
        "id": "1N-NXFVmSwq1"
      },
      "source": [
        "model = tf.keras.models.Sequential([\n",
        "    tf.keras.layers.Conv2D(32, (3,3), activation='relu', input_shape=(200,200, 3)),\n",
        "    tf.keras.layers.MaxPooling2D(2, 2),\n",
        "    tf.keras.layers.Conv2D(64, (3,3), activation='relu'),\n",
        "    tf.keras.layers.MaxPooling2D(2,2),\n",
        "    tf.keras.layers.Conv2D(100, (3,3),padding = 'same', activation='relu'),\n",
        "    tf.keras.layers.MaxPooling2D(2,2),\n",
        "    tf.keras.layers.Dropout(0.2),\n",
        "    tf.keras.layers.Flatten(),\n",
        "    tf.keras.layers.Dense(128, activation='relu'),\n",
        "    tf.keras.layers.Dense(67, activation='softmax')\n",
        "])\n",
        "\n",
        "model.compile(loss = 'categorical_crossentropy',\n",
        "              optimizer = Adam(learning_rate=0.001),\n",
        "              metrics = ['accuracy'])"
      ],
      "execution_count": 8,
      "outputs": []
    },
    {
      "cell_type": "code",
      "metadata": {
        "id": "arCzhAc5V9vE",
        "colab": {
          "base_uri": "https://localhost:8080/"
        },
        "outputId": "8c75197a-7cba-4454-d4a4-3eb067561aec"
      },
      "source": [
        "train_datagen = ImageDataGenerator(\n",
        "      rescale=1./255)\n",
        "\n",
        "test_datagen = ImageDataGenerator(rescale=1./255)\n",
        "\n",
        "train_generator = train_datagen.flow_from_directory(\n",
        "    train_path, target_size=(200,200),\n",
        "    batch_size = 20,\n",
        "    class_mode ='categorical')\n",
        "\n",
        "validation_generator = test_datagen.flow_from_directory(\n",
        "    test_path, target_size = (200,200),\n",
        "    batch_size = 20,\n",
        "    class_mode='categorical')"
      ],
      "execution_count": 11,
      "outputs": [
        {
          "output_type": "stream",
          "name": "stdout",
          "text": [
            "Found 101260 images belonging to 67 classes.\n",
            "Found 25347 images belonging to 67 classes.\n"
          ]
        }
      ]
    },
    {
      "cell_type": "code",
      "metadata": {
        "colab": {
          "base_uri": "https://localhost:8080/"
        },
        "id": "nb0-PmfWXcpW",
        "outputId": "732b571f-efa3-4626-a429-30979cc4f8e3"
      },
      "source": [
        "history = model.fit(train_generator, steps_per_epoch = 50, epochs = 25,\n",
        "                    validation_data = validation_generator,\n",
        "                    validation_steps = 10,\n",
        "                    verbose = 1)\n"
      ],
      "execution_count": 14,
      "outputs": [
        {
          "output_type": "stream",
          "name": "stdout",
          "text": [
            "Epoch 1/25\n",
            "50/50 [==============================] - 5s 97ms/step - loss: 2.7688 - accuracy: 0.4010 - val_loss: 2.8459 - val_accuracy: 0.4000\n",
            "Epoch 2/25\n",
            "50/50 [==============================] - 5s 98ms/step - loss: 2.6518 - accuracy: 0.4280 - val_loss: 1.7188 - val_accuracy: 0.7000\n",
            "Epoch 3/25\n",
            "50/50 [==============================] - 5s 100ms/step - loss: 2.7811 - accuracy: 0.3850 - val_loss: 3.4972 - val_accuracy: 0.3000\n",
            "Epoch 4/25\n",
            "50/50 [==============================] - 5s 96ms/step - loss: 2.5843 - accuracy: 0.4450 - val_loss: 2.2568 - val_accuracy: 0.5000\n",
            "Epoch 5/25\n",
            "50/50 [==============================] - 5s 93ms/step - loss: 2.7018 - accuracy: 0.4170 - val_loss: 1.9569 - val_accuracy: 0.6000\n",
            "Epoch 6/25\n",
            "50/50 [==============================] - 5s 95ms/step - loss: 2.6893 - accuracy: 0.4230 - val_loss: 3.7151 - val_accuracy: 0.3000\n",
            "Epoch 7/25\n",
            "50/50 [==============================] - 5s 96ms/step - loss: 2.6761 - accuracy: 0.4140 - val_loss: 2.9191 - val_accuracy: 0.3000\n",
            "Epoch 8/25\n",
            "50/50 [==============================] - 5s 97ms/step - loss: 2.7243 - accuracy: 0.3950 - val_loss: 3.2812 - val_accuracy: 0.3000\n",
            "Epoch 9/25\n",
            "50/50 [==============================] - 5s 93ms/step - loss: 2.6384 - accuracy: 0.4230 - val_loss: 2.4058 - val_accuracy: 0.5000\n",
            "Epoch 10/25\n",
            "50/50 [==============================] - 5s 96ms/step - loss: 2.6281 - accuracy: 0.4290 - val_loss: 2.7018 - val_accuracy: 0.4000\n",
            "Epoch 11/25\n",
            "50/50 [==============================] - 5s 97ms/step - loss: 2.6612 - accuracy: 0.4110 - val_loss: 2.4141 - val_accuracy: 0.5000\n",
            "Epoch 12/25\n",
            "50/50 [==============================] - 5s 98ms/step - loss: 2.6649 - accuracy: 0.4250 - val_loss: 2.2479 - val_accuracy: 0.6000\n",
            "Epoch 13/25\n",
            "50/50 [==============================] - 5s 97ms/step - loss: 2.6935 - accuracy: 0.4090 - val_loss: 2.7164 - val_accuracy: 0.4000\n",
            "Epoch 14/25\n",
            "50/50 [==============================] - 5s 93ms/step - loss: 2.6602 - accuracy: 0.4090 - val_loss: 2.9068 - val_accuracy: 0.4000\n",
            "Epoch 15/25\n",
            "50/50 [==============================] - 5s 95ms/step - loss: 2.7240 - accuracy: 0.3940 - val_loss: 3.0614 - val_accuracy: 0.3000\n",
            "Epoch 16/25\n",
            "50/50 [==============================] - 5s 96ms/step - loss: 2.6599 - accuracy: 0.4300 - val_loss: 2.8285 - val_accuracy: 0.2000\n",
            "Epoch 17/25\n",
            "50/50 [==============================] - 5s 96ms/step - loss: 2.6148 - accuracy: 0.4290 - val_loss: 2.2517 - val_accuracy: 0.6000\n",
            "Epoch 18/25\n",
            "50/50 [==============================] - 5s 95ms/step - loss: 2.6049 - accuracy: 0.4210 - val_loss: 2.8816 - val_accuracy: 0.3000\n",
            "Epoch 19/25\n",
            "50/50 [==============================] - 5s 94ms/step - loss: 2.5182 - accuracy: 0.4490 - val_loss: 1.9778 - val_accuracy: 0.6000\n",
            "Epoch 20/25\n",
            "50/50 [==============================] - 5s 96ms/step - loss: 2.6489 - accuracy: 0.4260 - val_loss: 2.5515 - val_accuracy: 0.5000\n",
            "Epoch 21/25\n",
            "50/50 [==============================] - 5s 100ms/step - loss: 2.6422 - accuracy: 0.4140 - val_loss: 2.5196 - val_accuracy: 0.4000\n",
            "Epoch 22/25\n",
            "50/50 [==============================] - 5s 98ms/step - loss: 2.6156 - accuracy: 0.4280 - val_loss: 1.6023 - val_accuracy: 0.7000\n",
            "Epoch 23/25\n",
            "50/50 [==============================] - 5s 93ms/step - loss: 2.6609 - accuracy: 0.4130 - val_loss: 2.1562 - val_accuracy: 0.5000\n",
            "Epoch 24/25\n",
            "50/50 [==============================] - 5s 93ms/step - loss: 2.6057 - accuracy: 0.4170 - val_loss: 2.8084 - val_accuracy: 0.4000\n",
            "Epoch 25/25\n",
            "50/50 [==============================] - 5s 95ms/step - loss: 2.5843 - accuracy: 0.4350 - val_loss: 2.3300 - val_accuracy: 0.5000\n"
          ]
        }
      ]
    },
    {
      "cell_type": "code",
      "metadata": {
        "id": "E9dgfUs4YHVb",
        "colab": {
          "base_uri": "https://localhost:8080/",
          "height": 545
        },
        "outputId": "a4eb9a4c-9877-4164-d30d-c9bbbb864925"
      },
      "source": [
        "import matplotlib.pyplot as plt\n",
        "acc = history.history['accuracy']\n",
        "val_acc = history.history['val_accuracy']\n",
        "loss = history.history['loss']\n",
        "val_loss = history.history['val_loss']\n",
        "\n",
        "epochs = range(len(acc))\n",
        "\n",
        "plt.plot(epochs, acc, 'bo', label='Training accuracy')\n",
        "plt.plot(epochs, val_acc, 'b', label='Validation accuracy')\n",
        "plt.title('Training and validation accuracy')\n",
        "\n",
        "plt.figure()\n",
        "\n",
        "plt.plot(epochs, loss, 'bo', label='Training Loss')\n",
        "plt.plot(epochs, val_loss, 'b', label='Validation Loss')\n",
        "plt.title('Training and validation loss')\n",
        "plt.legend()\n",
        "\n",
        "plt.show()"
      ],
      "execution_count": 15,
      "outputs": [
        {
          "output_type": "display_data",
          "data": {
            "image/png": "[encoded data removed]",
            "text/plain": [
              "<Figure size 432x288 with 1 Axes>"
            ]
          },
          "metadata": {
            "needs_background": "light"
          }
        },
        {
          "output_type": "display_data",
          "data": {
            "image/png": "[encoded data removed]",
            "text/plain": [
              "<Figure size 432x288 with 1 Axes>"
            ]
          },
          "metadata": {
            "needs_background": "light"
          }
        }
      ]
    }
  ]
}